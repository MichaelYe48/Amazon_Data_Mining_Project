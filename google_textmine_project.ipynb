{
 "cells": [
  {
   "cell_type": "code",
   "execution_count": 1,
   "id": "6101bf29-587b-4bdc-946a-0834d02b7d3d",
   "metadata": {},
   "outputs": [],
   "source": [
    "import json\n",
    "import string\n",
    "from collections import defaultdict\n",
    "from sklearn import linear_model\n",
    "from matplotlib import pyplot as plt\n",
    "import pandas as pd\n",
    "from tabulate import tabulate\n",
    "from sklearn.metrics import mean_absolute_error"
   ]
  },
  {
   "cell_type": "markdown",
   "id": "8e53c849-76e3-457e-b44b-d172879cfb6e",
   "metadata": {},
   "source": [
    "**loading datasets (train, valid, test)**"
   ]
  },
  {
   "cell_type": "code",
   "execution_count": 2,
   "id": "49e8dab0-4113-4eeb-8107-14c808c26645",
   "metadata": {},
   "outputs": [
    {
     "data": {
      "text/plain": [
       "87013"
      ]
     },
     "execution_count": 2,
     "metadata": {},
     "output_type": "execute_result"
    }
   ],
   "source": [
    "dataset = json.load(open('filter_all_t.json'))\n",
    "trainSet = dataset['train']\n",
    "valSet = dataset['val']\n",
    "testSet = dataset['test']\n",
    "len(trainSet)"
   ]
  },
  {
   "cell_type": "markdown",
   "id": "aba1f723-3cf7-4c86-b367-a9ddb9b7470b",
   "metadata": {},
   "source": [
    "## Exploratory Analysis"
   ]
  },
  {
   "cell_type": "markdown",
   "id": "4400e6d4-b375-4a7f-a514-2497f6663eb6",
   "metadata": {},
   "source": [
    "**Determing the distribution of ratings (y) in the database**"
   ]
  },
  {
   "cell_type": "code",
   "execution_count": 3,
   "id": "3b131c0e-7a6c-4891-a3ea-74d890c44153",
   "metadata": {},
   "outputs": [
    {
     "data": {
      "image/png": "[encoded data removed]",
      "text/plain": [
       "<Figure size 640x480 with 1 Axes>"
      ]
     },
     "metadata": {},
     "output_type": "display_data"
    }
   ],
   "source": [
    "ratingsList = [d['rating'] for d in trainSet]\n",
    "numOfStars = defaultdict(int)\n",
    "for d in trainSet:\n",
    "    numOfStars[d['rating']] += 1\n",
    "    \n",
    "plt.bar(list(numOfStars.keys()), list(numOfStars.values()))\n",
    "plt.title('Review Star Distribution')\n",
    "plt.xlabel('Number of Stars')\n",
    "plt.ylabel('Number of Reviews')\n",
    "plt.show()"
   ]
  },
  {
   "cell_type": "markdown",
   "id": "44380240-4ef6-49cd-b5cb-e333e8f50ac3",
   "metadata": {},
   "source": [
    "**Average rating score**"
   ]
  },
  {
   "cell_type": "code",
   "execution_count": 4,
   "id": "f98dd118-83c5-4dae-bf91-335215aeef3a",
   "metadata": {},
   "outputs": [
    {
     "data": {
      "text/plain": [
       "4.465252318619057"
      ]
     },
     "execution_count": 4,
     "metadata": {},
     "output_type": "execute_result"
    }
   ],
   "source": [
    "avgRatingScore = sum(ratingsList) / len(ratingsList)\n",
    "avgRatingScore"
   ]
  },
  {
   "cell_type": "markdown",
   "id": "3088f2c6-a915-4a4f-97dc-6fe3eb46e1e7",
   "metadata": {},
   "source": [
    "**Average number of `history_reviews` per review**"
   ]
  },
  {
   "cell_type": "code",
   "execution_count": 5,
   "id": "08b210b6-3cde-4191-a8ed-d63614434ea9",
   "metadata": {},
   "outputs": [
    {
     "data": {
      "text/plain": [
       "3.3998368059945068"
      ]
     },
     "execution_count": 5,
     "metadata": {},
     "output_type": "execute_result"
    }
   ],
   "source": [
    "histReviews = [len(d['history_reviews']) for d in trainSet]\n",
    "sum(histReviews) / len(histReviews)"
   ]
  },
  {
   "cell_type": "markdown",
   "id": "6f053215-c1fa-4d6b-b9b7-cf91a25b37cf",
   "metadata": {},
   "source": [
    "**Average number of pictures per review**"
   ]
  },
  {
   "cell_type": "code",
   "execution_count": 6,
   "id": "9d75a99c-2ceb-468e-affc-d2cb024e8d5e",
   "metadata": {},
   "outputs": [
    {
     "data": {
      "text/plain": [
       "1.8681001689402732"
      ]
     },
     "execution_count": 6,
     "metadata": {},
     "output_type": "execute_result"
    }
   ],
   "source": [
    "numOfPictures = [len(d['pics']) for d in trainSet]\n",
    "sum(numOfPictures) / len(numOfPictures)"
   ]
  },
  {
   "cell_type": "markdown",
   "id": "6f30c961-f665-4fb0-8439-45ab5c1b0fee",
   "metadata": {},
   "source": [
    "**Checking for overlapping users between the sets**"
   ]
  },
  {
   "cell_type": "code",
   "execution_count": 7,
   "id": "b94b14a0-5fd0-4a29-b027-9266b1de6b54",
   "metadata": {},
   "outputs": [
    {
     "name": "stdout",
     "output_type": "stream",
     "text": [
      "number of overlapping users between train and valid set:  0\n",
      "number of overlapping restaurants between train and valid set:  6282\n"
     ]
    }
   ],
   "source": [
    "usersTrain = set()\n",
    "restaurantsTrain = set()\n",
    "\n",
    "for d in trainSet:\n",
    "    usersTrain.add(d['user_id'])\n",
    "    restaurantsTrain.add(d['business_id'])\n",
    "\n",
    "usersValid = set()\n",
    "restaurantsValid = set()\n",
    "\n",
    "for d in valSet:\n",
    "    usersValid.add(d['user_id'])\n",
    "    restaurantsValid.add(d['business_id'])\n",
    "\n",
    "# usersTest = set()\n",
    "# restaurantsTest = set()\n",
    "\n",
    "# for d in testSet:\n",
    "#     usersTest.add(d['user_id'])\n",
    "#     restaurantsTest.add(d['business_id'])\n",
    "\n",
    "print(\"number of overlapping users between train and valid set: \", len(usersTrain.intersection(usersValid)))\n",
    "print(\"number of overlapping restaurants between train and valid set: \", len(restaurantsTrain.intersection(restaurantsValid)))"
   ]
  },
  {
   "cell_type": "markdown",
   "id": "c47b17e2-79dd-4bc4-bd0b-9e1a4feba078",
   "metadata": {},
   "source": [
    "## Model"
   ]
  },
  {
   "cell_type": "markdown",
   "id": "f41056e3-2a87-41df-af8a-58595a3a24a8",
   "metadata": {},
   "source": [
    "**Bag-of-Words model**"
   ]
  },
  {
   "cell_type": "code",
   "execution_count": 8,
   "id": "9b9d1ed8-71c2-4c4a-89e4-75805cf14c9f",
   "metadata": {},
   "outputs": [
    {
     "name": "stdout",
     "output_type": "stream",
     "text": [
      "number of unqiue review words:  38456\n"
     ]
    }
   ],
   "source": [
    "reviewWordCount = defaultdict(int)\n",
    "punctuation = set(string.punctuation)\n",
    "\n",
    "# getting all words that are not punctuation, making sure upper/lower case doesn't matter\n",
    "for d in trainSet:\n",
    "  r = ''.join([c for c in d['review_text'].lower() if not c in punctuation])\n",
    "  for w in r.split():\n",
    "    reviewWordCount[w] += 1\n",
    "\n",
    "print(\"number of unqiue review words: \", len(reviewWordCount))\n",
    "reviewCounts = [(reviewWordCount[w], w) for w in reviewWordCount]\n",
    "reviewCounts.sort(reverse=True)\n",
    "\n",
    "# top 3000 most popular words from reviewCounts\n",
    "reviewWords = [x[1] for x in reviewCounts[:3000]]\n",
    "reviewWordId = dict(zip(reviewWords, range(len(reviewWords)))) "
   ]
  },
  {
   "cell_type": "markdown",
   "id": "37b3d636-89bf-4318-af9a-f1081c130b4d",
   "metadata": {},
   "source": [
    "**Sentiment Analysis**"
   ]
  },
  {
   "cell_type": "code",
   "execution_count": 12,
   "id": "be50a9da-c358-4c88-ac5e-c9311873d862",
   "metadata": {},
   "outputs": [
    {
     "name": "stdout",
     "output_type": "stream",
     "text": [
      "Valid MAE:  0.4778084714548803\n",
      "Test MAE:  0.4667271901951884\n"
     ]
    }
   ],
   "source": [
    "def feature(datum):\n",
    "    vector1 = [0]*len(reviewWords)\n",
    "    r = ''.join([c for c in datum['review_text'].lower() if not c in punctuation])\n",
    "    for w in r.split():\n",
    "        if w in reviewWords:\n",
    "            vector1[reviewWordId[w]] += 1\n",
    "\n",
    "    return vector1 + [len(datum['pics'])] + [len(datum['history_reviews'])] + [1] \n",
    "\n",
    "X = [feature(d) for d in trainSet]\n",
    "y = [d['rating'] for d in trainSet]\n",
    "\n",
    "# Regularized regression\n",
    "model = linear_model.Ridge(1.0, fit_intercept=False)\n",
    "model.fit(X, y)\n",
    "xVal, yVal = [feature(d) for d in valSet], [d['rating'] for d in valSet]\n",
    "predVal = model.predict(xVal)\n",
    "\n",
    "for i in range(len(predVal)):\n",
    "    if predVal[i] > 5: predVal[i] = 5\n",
    "    elif predVal[i] < 1: predVal[i] = 1\n",
    "    else: predVal[i] = round(predVal[i])\n",
    "\n",
    "\n",
    "MAE = mean_absolute_error(yVal, predVal)\n",
    "print(\"Valid MAE: \", str(MAE))\n",
    "\n",
    "xTest, yTest = [feature(d) for d in testSet], [d['rating'] for d in testSet]\n",
    "predTest = model.predict(xTest)\n",
    "\n",
    "for i in range(len(predTest)):\n",
    "    if predTest[i] > 5: predTest[i] = 5\n",
    "    elif predTest[i] < 1: predTest[i] = 1\n",
    "    else: predTest[i] = round(predTest[i])\n",
    "\n",
    "MAE = mean_absolute_error(yTest, predTest)\n",
    "print(\"Test MAE: \", str(MAE))"
   ]
  },
  {
   "cell_type": "code",
   "execution_count": 10,
   "id": "3db30abb-c97e-46fb-b627-f3e58b44f14e",
   "metadata": {},
   "outputs": [
    {
     "name": "stdout",
     "output_type": "stream",
     "text": [
      "baseline:  0.6807998737048648\n"
     ]
    }
   ],
   "source": [
    "avgRatingList = [avgRatingScore for _ in yVal]\n",
    "baseline = mean_absolute_error(yVal, avgRatingList)\n",
    "print(\"baseline: \", baseline)"
   ]
  },
  {
   "cell_type": "markdown",
   "id": "0ae9584d-80f0-4410-b984-a21646da6ec6",
   "metadata": {},
   "source": [
    "**10 most negatively weighted words and 10 most positively weighted words**"
   ]
  },
  {
   "cell_type": "code",
   "execution_count": 11,
   "id": "42275854-6722-4d11-ba2a-b2918d80370a",
   "metadata": {},
   "outputs": [
    {
     "name": "stdout",
     "output_type": "stream",
     "text": [
      "Bottom Weighted Words\n",
      "╒═══════════╤════════════╕\n",
      "│    weight │ word       │\n",
      "╞═══════════╪════════════╡\n",
      "│ -1.27357  │ disgusting │\n",
      "├───────────┼────────────┤\n",
      "│ -1.21159  │ worst      │\n",
      "├───────────┼────────────┤\n",
      "│ -1.00238  │ horrible   │\n",
      "├───────────┼────────────┤\n",
      "│ -0.958313 │ awful      │\n",
      "├───────────┼────────────┤\n",
      "│ -0.862087 │ edible     │\n",
      "├───────────┼────────────┤\n",
      "│ -0.833706 │ mediocre   │\n",
      "├───────────┼────────────┤\n",
      "│ -0.806961 │ gross      │\n",
      "├───────────┼────────────┤\n",
      "│ -0.769495 │ tasteless  │\n",
      "├───────────┼────────────┤\n",
      "│ -0.76202  │ terrible   │\n",
      "├───────────┼────────────┤\n",
      "│ -0.722363 │ sent       │\n",
      "├───────────┼────────────┤\n",
      "│ -0.722222 │ stale      │\n",
      "├───────────┼────────────┤\n",
      "│ -0.690482 │ burned     │\n",
      "├───────────┼────────────┤\n",
      "│ -0.689473 │ flavorless │\n",
      "├───────────┼────────────┤\n",
      "│ -0.635109 │ supposed   │\n",
      "├───────────┼────────────┤\n",
      "│ -0.617519 │ overpriced │\n",
      "╘═══════════╧════════════╛\n",
      "Top Weighted Words\n",
      "╒══════════╤═════════════╕\n",
      "│   weight │ word        │\n",
      "╞══════════╪═════════════╡\n",
      "│ 0.524888 │ ends        │\n",
      "├──────────┼─────────────┤\n",
      "│ 0.433787 │ vieja       │\n",
      "├──────────┼─────────────┤\n",
      "│ 0.397063 │ monte       │\n",
      "├──────────┼─────────────┤\n",
      "│ 0.385813 │ frills      │\n",
      "├──────────┼─────────────┤\n",
      "│ 0.376658 │ realized    │\n",
      "├──────────┼─────────────┤\n",
      "│ 0.37085  │ disappoint  │\n",
      "├──────────┼─────────────┤\n",
      "│ 0.364967 │ complaints  │\n",
      "├──────────┼─────────────┤\n",
      "│ 0.357379 │ behind      │\n",
      "├──────────┼─────────────┤\n",
      "│ 0.350407 │ exquisite   │\n",
      "├──────────┼─────────────┤\n",
      "│ 0.337541 │ phenomenal  │\n",
      "├──────────┼─────────────┤\n",
      "│ 0.311489 │ exceptional │\n",
      "├──────────┼─────────────┤\n",
      "│ 0.303659 │ purple      │\n",
      "├──────────┼─────────────┤\n",
      "│ 0.297967 │ cha         │\n",
      "├──────────┼─────────────┤\n",
      "│ 0.295679 │ individual  │\n",
      "├──────────┼─────────────┤\n",
      "│ 0.290574 │ dim         │\n",
      "╘══════════╧═════════════╛\n"
     ]
    }
   ],
   "source": [
    "theta = model.coef_\n",
    "wordsWeight = [(theta[i], reviewWords[i]) for i in range(len(reviewWords))]\n",
    "wordsWeight.sort()\n",
    "table = wordsWeight[:15]\n",
    "print(\"Bottom Weighted Words\")\n",
    "print(tabulate(table, headers=('weight', 'word'), tablefmt='fancy_grid'))\n",
    "wordsWeight.sort(reverse=True)\n",
    "table = wordsWeight[:15]\n",
    "print(\"Top Weighted Words\")\n",
    "print(tabulate(table, headers=('weight', 'word'), tablefmt='fancy_grid'))"
   ]
  }
 ],
 "metadata": {
  "kernelspec": {
   "display_name": "Python 3 (ipykernel)",
   "language": "python",
   "name": "python3"
  },
  "language_info": {
   "codemirror_mode": {
    "name": "ipython",
    "version": 3
   },
   "file_extension": ".py",
   "mimetype": "text/x-python",
   "name": "python",
   "nbconvert_exporter": "python",
   "pygments_lexer": "ipython3",
   "version": "3.8.2"
  }
 },
 "nbformat": 4,
 "nbformat_minor": 5
}
